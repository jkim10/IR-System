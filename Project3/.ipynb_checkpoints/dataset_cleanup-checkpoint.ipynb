{
 "cells": [
  {
   "cell_type": "code",
   "execution_count": 4,
   "metadata": {},
   "outputs": [
    {
     "data": {
      "text/plain": [
       "0          21-50\n",
       "1          21-50\n",
       "2          21-50\n",
       "3          21-50\n",
       "4          21-50\n",
       "           ...  \n",
       "484320     21-50\n",
       "484321     51-70\n",
       "484322     21-50\n",
       "484323    71-100\n",
       "484324     21-50\n",
       "Name: PERSON_AGE, Length: 484325, dtype: category\n",
       "Categories (4, object): ['0-20' < '21-50' < '51-70' < '71-100']"
      ]
     },
     "execution_count": 4,
     "metadata": {},
     "output_type": "execute_result"
    }
   ],
   "source": [
    "import pandas as pd\n",
    "df = pd.read_csv(\"original.csv\")\n",
    "df['PERSON_AGE'] = pd.cut(df['PERSON_AGE'], bins=[0, 20, 50, 70,100], include_lowest=True, labels=['0-20', '21-50', '51-70','71-100'])\n",
    "filtered_columns = df[['PERSON_TYPE', 'PERSON_AGE','PERSON_INJURY','EJECTION','BODILY_INJURY','POSITION_IN_VEHICLE','SAFETY_EQUIPMENT','PED_LOCATION','PED_ACTION','COMPLAINT','PERSON_SEX']]\n",
    "filtered_columns.sample(2000)\n"
   ]
  },
  {
   "cell_type": "code",
   "execution_count": 3,
   "metadata": {},
   "outputs": [],
   "source": [
    "filtered_columns.sample(2000).to_csv(\"integrated_dataset.csv\",index=False)"
   ]
  },
  {
   "cell_type": "code",
   "execution_count": null,
   "metadata": {},
   "outputs": [],
   "source": []
  }
 ],
 "metadata": {
  "kernelspec": {
   "display_name": "Python 3",
   "language": "python",
   "name": "python3"
  },
  "language_info": {
   "codemirror_mode": {
    "name": "ipython",
    "version": 3
   },
   "file_extension": ".py",
   "mimetype": "text/x-python",
   "name": "python",
   "nbconvert_exporter": "python",
   "pygments_lexer": "ipython3",
   "version": "3.8.5"
  }
 },
 "nbformat": 4,
 "nbformat_minor": 4
}
