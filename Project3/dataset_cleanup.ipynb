{
 "cells": [
  {
   "cell_type": "code",
   "execution_count": 42,
   "metadata": {
    "scrolled": true
   },
   "outputs": [
    {
     "data": {
      "text/html": [
       "<div>\n",
       "<style scoped>\n",
       "    .dataframe tbody tr th:only-of-type {\n",
       "        vertical-align: middle;\n",
       "    }\n",
       "\n",
       "    .dataframe tbody tr th {\n",
       "        vertical-align: top;\n",
       "    }\n",
       "\n",
       "    .dataframe thead th {\n",
       "        text-align: right;\n",
       "    }\n",
       "</style>\n",
       "<table border=\"1\" class=\"dataframe\">\n",
       "  <thead>\n",
       "    <tr style=\"text-align: right;\">\n",
       "      <th></th>\n",
       "      <th>PERSON_TYPE</th>\n",
       "      <th>PERSON_AGE</th>\n",
       "      <th>PERSON_INJURY</th>\n",
       "      <th>EJECTION</th>\n",
       "      <th>BODILY_INJURY</th>\n",
       "      <th>POSITION_IN_VEHICLE</th>\n",
       "      <th>SAFETY_EQUIPMENT</th>\n",
       "      <th>PED_LOCATION</th>\n",
       "      <th>PED_ACTION</th>\n",
       "      <th>COMPLAINT</th>\n",
       "      <th>PERSON_SEX</th>\n",
       "    </tr>\n",
       "  </thead>\n",
       "  <tbody>\n",
       "    <tr>\n",
       "      <th>0</th>\n",
       "      <td>Occupant</td>\n",
       "      <td>21-50</td>\n",
       "      <td>Injured</td>\n",
       "      <td>Not Ejected</td>\n",
       "      <td>Back</td>\n",
       "      <td>Driver</td>\n",
       "      <td>Lap Belt &amp; Harness</td>\n",
       "      <td>NaN</td>\n",
       "      <td>NaN</td>\n",
       "      <td>Complaint of Pain or Nausea</td>\n",
       "      <td>M</td>\n",
       "    </tr>\n",
       "    <tr>\n",
       "      <th>1</th>\n",
       "      <td>Pedestrian</td>\n",
       "      <td>21-50</td>\n",
       "      <td>Injured</td>\n",
       "      <td>NaN</td>\n",
       "      <td>Shoulder - Upper Arm</td>\n",
       "      <td>NaN</td>\n",
       "      <td>NaN</td>\n",
       "      <td>Pedestrian/Bicyclist/Other Pedestrian at Inter...</td>\n",
       "      <td>Crossing With Signal</td>\n",
       "      <td>None Visible</td>\n",
       "      <td>F</td>\n",
       "    </tr>\n",
       "    <tr>\n",
       "      <th>2</th>\n",
       "      <td>Bicyclist</td>\n",
       "      <td>21-50</td>\n",
       "      <td>Injured</td>\n",
       "      <td>Not Ejected</td>\n",
       "      <td>Knee-Lower Leg Foot</td>\n",
       "      <td>Driver</td>\n",
       "      <td>Unknown</td>\n",
       "      <td>NaN</td>\n",
       "      <td>NaN</td>\n",
       "      <td>None Visible</td>\n",
       "      <td>M</td>\n",
       "    </tr>\n",
       "    <tr>\n",
       "      <th>3</th>\n",
       "      <td>Bicyclist</td>\n",
       "      <td>21-50</td>\n",
       "      <td>Injured</td>\n",
       "      <td>Not Ejected</td>\n",
       "      <td>Back</td>\n",
       "      <td>Driver</td>\n",
       "      <td>None</td>\n",
       "      <td>NaN</td>\n",
       "      <td>NaN</td>\n",
       "      <td>Internal</td>\n",
       "      <td>M</td>\n",
       "    </tr>\n",
       "    <tr>\n",
       "      <th>4</th>\n",
       "      <td>Occupant</td>\n",
       "      <td>21-50</td>\n",
       "      <td>Injured</td>\n",
       "      <td>Not Ejected</td>\n",
       "      <td>Head</td>\n",
       "      <td>Front passenger, if two or more persons, inclu...</td>\n",
       "      <td>Lap Belt &amp; Harness</td>\n",
       "      <td>NaN</td>\n",
       "      <td>NaN</td>\n",
       "      <td>Complaint of Pain or Nausea</td>\n",
       "      <td>F</td>\n",
       "    </tr>\n",
       "    <tr>\n",
       "      <th>...</th>\n",
       "      <td>...</td>\n",
       "      <td>...</td>\n",
       "      <td>...</td>\n",
       "      <td>...</td>\n",
       "      <td>...</td>\n",
       "      <td>...</td>\n",
       "      <td>...</td>\n",
       "      <td>...</td>\n",
       "      <td>...</td>\n",
       "      <td>...</td>\n",
       "      <td>...</td>\n",
       "    </tr>\n",
       "    <tr>\n",
       "      <th>484320</th>\n",
       "      <td>Occupant</td>\n",
       "      <td>21-50</td>\n",
       "      <td>Injured</td>\n",
       "      <td>Ejected</td>\n",
       "      <td>Entire Body</td>\n",
       "      <td>Driver</td>\n",
       "      <td>Helmet (Motorcycle Only)</td>\n",
       "      <td>NaN</td>\n",
       "      <td>NaN</td>\n",
       "      <td>Minor Bleeding</td>\n",
       "      <td>M</td>\n",
       "    </tr>\n",
       "    <tr>\n",
       "      <th>484321</th>\n",
       "      <td>Occupant</td>\n",
       "      <td>51-70</td>\n",
       "      <td>Injured</td>\n",
       "      <td>Not Ejected</td>\n",
       "      <td>Knee-Lower Leg Foot</td>\n",
       "      <td>Driver</td>\n",
       "      <td>Helmet Only (In-Line Skater/Bicyclist)</td>\n",
       "      <td>NaN</td>\n",
       "      <td>NaN</td>\n",
       "      <td>Complaint of Pain or Nausea</td>\n",
       "      <td>M</td>\n",
       "    </tr>\n",
       "    <tr>\n",
       "      <th>484322</th>\n",
       "      <td>Occupant</td>\n",
       "      <td>21-50</td>\n",
       "      <td>Injured</td>\n",
       "      <td>Not Ejected</td>\n",
       "      <td>Neck</td>\n",
       "      <td>Driver</td>\n",
       "      <td>Lap Belt</td>\n",
       "      <td>NaN</td>\n",
       "      <td>NaN</td>\n",
       "      <td>Complaint of Pain or Nausea</td>\n",
       "      <td>F</td>\n",
       "    </tr>\n",
       "    <tr>\n",
       "      <th>484323</th>\n",
       "      <td>Pedestrian</td>\n",
       "      <td>71-100</td>\n",
       "      <td>Injured</td>\n",
       "      <td>NaN</td>\n",
       "      <td>Shoulder - Upper Arm</td>\n",
       "      <td>NaN</td>\n",
       "      <td>NaN</td>\n",
       "      <td>Pedestrian/Bicyclist/Other Pedestrian at Inter...</td>\n",
       "      <td>Crossing With Signal</td>\n",
       "      <td>Complaint of Pain or Nausea</td>\n",
       "      <td>F</td>\n",
       "    </tr>\n",
       "    <tr>\n",
       "      <th>484324</th>\n",
       "      <td>Occupant</td>\n",
       "      <td>21-50</td>\n",
       "      <td>Injured</td>\n",
       "      <td>Not Ejected</td>\n",
       "      <td>Back</td>\n",
       "      <td>Driver</td>\n",
       "      <td>Lap Belt</td>\n",
       "      <td>NaN</td>\n",
       "      <td>NaN</td>\n",
       "      <td>Complaint of Pain or Nausea</td>\n",
       "      <td>F</td>\n",
       "    </tr>\n",
       "  </tbody>\n",
       "</table>\n",
       "<p>484325 rows × 11 columns</p>\n",
       "</div>"
      ],
      "text/plain": [
       "       PERSON_TYPE PERSON_AGE PERSON_INJURY     EJECTION  \\\n",
       "0         Occupant      21-50       Injured  Not Ejected   \n",
       "1       Pedestrian      21-50       Injured          NaN   \n",
       "2        Bicyclist      21-50       Injured  Not Ejected   \n",
       "3        Bicyclist      21-50       Injured  Not Ejected   \n",
       "4         Occupant      21-50       Injured  Not Ejected   \n",
       "...            ...        ...           ...          ...   \n",
       "484320    Occupant      21-50       Injured      Ejected   \n",
       "484321    Occupant      51-70       Injured  Not Ejected   \n",
       "484322    Occupant      21-50       Injured  Not Ejected   \n",
       "484323  Pedestrian     71-100       Injured          NaN   \n",
       "484324    Occupant      21-50       Injured  Not Ejected   \n",
       "\n",
       "               BODILY_INJURY  \\\n",
       "0                       Back   \n",
       "1       Shoulder - Upper Arm   \n",
       "2        Knee-Lower Leg Foot   \n",
       "3                       Back   \n",
       "4                       Head   \n",
       "...                      ...   \n",
       "484320           Entire Body   \n",
       "484321   Knee-Lower Leg Foot   \n",
       "484322                  Neck   \n",
       "484323  Shoulder - Upper Arm   \n",
       "484324                  Back   \n",
       "\n",
       "                                      POSITION_IN_VEHICLE  \\\n",
       "0                                                  Driver   \n",
       "1                                                     NaN   \n",
       "2                                                  Driver   \n",
       "3                                                  Driver   \n",
       "4       Front passenger, if two or more persons, inclu...   \n",
       "...                                                   ...   \n",
       "484320                                             Driver   \n",
       "484321                                             Driver   \n",
       "484322                                             Driver   \n",
       "484323                                                NaN   \n",
       "484324                                             Driver   \n",
       "\n",
       "                              SAFETY_EQUIPMENT  \\\n",
       "0                           Lap Belt & Harness   \n",
       "1                                          NaN   \n",
       "2                                      Unknown   \n",
       "3                                         None   \n",
       "4                           Lap Belt & Harness   \n",
       "...                                        ...   \n",
       "484320                Helmet (Motorcycle Only)   \n",
       "484321  Helmet Only (In-Line Skater/Bicyclist)   \n",
       "484322                                Lap Belt   \n",
       "484323                                     NaN   \n",
       "484324                                Lap Belt   \n",
       "\n",
       "                                             PED_LOCATION  \\\n",
       "0                                                     NaN   \n",
       "1       Pedestrian/Bicyclist/Other Pedestrian at Inter...   \n",
       "2                                                     NaN   \n",
       "3                                                     NaN   \n",
       "4                                                     NaN   \n",
       "...                                                   ...   \n",
       "484320                                                NaN   \n",
       "484321                                                NaN   \n",
       "484322                                                NaN   \n",
       "484323  Pedestrian/Bicyclist/Other Pedestrian at Inter...   \n",
       "484324                                                NaN   \n",
       "\n",
       "                  PED_ACTION                    COMPLAINT PERSON_SEX  \n",
       "0                        NaN  Complaint of Pain or Nausea          M  \n",
       "1       Crossing With Signal                 None Visible          F  \n",
       "2                        NaN                 None Visible          M  \n",
       "3                        NaN                     Internal          M  \n",
       "4                        NaN  Complaint of Pain or Nausea          F  \n",
       "...                      ...                          ...        ...  \n",
       "484320                   NaN               Minor Bleeding          M  \n",
       "484321                   NaN  Complaint of Pain or Nausea          M  \n",
       "484322                   NaN  Complaint of Pain or Nausea          F  \n",
       "484323  Crossing With Signal  Complaint of Pain or Nausea          F  \n",
       "484324                   NaN  Complaint of Pain or Nausea          F  \n",
       "\n",
       "[484325 rows x 11 columns]"
      ]
     },
     "execution_count": 42,
     "metadata": {},
     "output_type": "execute_result"
    }
   ],
   "source": [
    "import pandas as pd\n",
    "from random import randrange\n",
    "\n",
    "df = pd.read_csv(\"original.csv\")\n",
    "df['PERSON_AGE'] = pd.cut(df['PERSON_AGE'], bins=[0, 20, 50, 70,100], include_lowest=True, labels=['0-20', '21-50', '51-70','71-100'])\n",
    "filtered_columns = df[['PERSON_TYPE', 'PERSON_AGE','PERSON_INJURY','EJECTION','BODILY_INJURY','POSITION_IN_VEHICLE','SAFETY_EQUIPMENT','PED_LOCATION','PED_ACTION','COMPLAINT','PERSON_SEX']]\n",
    "filtered_columns"
   ]
  },
  {
   "cell_type": "code",
   "execution_count": 43,
   "metadata": {},
   "outputs": [],
   "source": [
    "filtered_columns.sample(2000,random_state=randrange(10000)).to_csv(\"integrated_dataset.csv\",index=False)"
   ]
  },
  {
   "cell_type": "code",
   "execution_count": 44,
   "metadata": {},
   "outputs": [],
   "source": [
    "import pandas as pd\n",
    "df = pd.read_csv(\"integrated_dataset.csv\")"
   ]
  },
  {
   "cell_type": "code",
   "execution_count": 45,
   "metadata": {},
   "outputs": [
    {
     "name": "stderr",
     "output_type": "stream",
     "text": [
      "<ipython-input-45-89459de5470c>:1: UserWarning: Boolean Series key will be reindexed to match DataFrame index.\n",
      "  len(df[df['PERSON_INJURY'] == 'Injured'][df['EJECTION'] == 'Ejected'][df['PERSON_TYPE'] == 'Occupant'])\n"
     ]
    },
    {
     "data": {
      "text/plain": [
       "17"
      ]
     },
     "execution_count": 45,
     "metadata": {},
     "output_type": "execute_result"
    }
   ],
   "source": [
    "len(df[df['PERSON_INJURY'] == 'Injured'][df['EJECTION'] == 'Ejected'][df['PERSON_TYPE'] == 'Occupant'])"
   ]
  },
  {
   "cell_type": "code",
   "execution_count": 51,
   "metadata": {
    "scrolled": true
   },
   "outputs": [],
   "source": [
    "baby = pd.read_csv(\"pbn.csv\")"
   ]
  },
  {
   "cell_type": "code",
   "execution_count": 54,
   "metadata": {},
   "outputs": [],
   "source": [
    "new_baby = baby.loc[baby.index.repeat(baby.Count)].drop(['Count','Rank'],1)"
   ]
  },
  {
   "cell_type": "code",
   "execution_count": 60,
   "metadata": {},
   "outputs": [],
   "source": [
    "new_baby.sample(1000,random_state=randrange(10000)).to_csv(\"baby_id.csv\",index=False)"
   ]
  },
  {
   "cell_type": "code",
   "execution_count": 76,
   "metadata": {},
   "outputs": [],
   "source": [
    "new_baby['name'] = new_baby[\"Child's First Name\"]\n",
    "new_baby = new_baby.drop([\"Child's First Name\"],1)"
   ]
  },
  {
   "cell_type": "code",
   "execution_count": 83,
   "metadata": {},
   "outputs": [],
   "source": [
    "gender_neutral = []\n",
    "only_female = new_baby[new_baby['Gender'] == 'FEMALE']"
   ]
  },
  {
   "cell_type": "code",
   "execution_count": 92,
   "metadata": {},
   "outputs": [],
   "source": [
    "f = set(only_female['name'].unique())"
   ]
  },
  {
   "cell_type": "code",
   "execution_count": 93,
   "metadata": {},
   "outputs": [],
   "source": [
    "only_male = new_baby[new_baby['Gender'] == 'MALE']"
   ]
  },
  {
   "cell_type": "code",
   "execution_count": 94,
   "metadata": {},
   "outputs": [],
   "source": [
    "m = set(only_male['name'].unique())"
   ]
  },
  {
   "cell_type": "code",
   "execution_count": 96,
   "metadata": {},
   "outputs": [],
   "source": [
    "gn = f.intersection(m)"
   ]
  },
  {
   "cell_type": "code",
   "execution_count": 99,
   "metadata": {},
   "outputs": [],
   "source": [
    "gender_neutral = new_baby[new_baby['name'].isin(gn)]"
   ]
  },
  {
   "cell_type": "code",
   "execution_count": 101,
   "metadata": {},
   "outputs": [],
   "source": [
    "gender_neutral.sample(38001,random_state=randrange(10000)).to_csv(\"baby_id.csv\",index=False)"
   ]
  },
  {
   "cell_type": "code",
   "execution_count": null,
   "metadata": {},
   "outputs": [],
   "source": []
  }
 ],
 "metadata": {
  "kernelspec": {
   "display_name": "Python 3",
   "language": "python",
   "name": "python3"
  },
  "language_info": {
   "codemirror_mode": {
    "name": "ipython",
    "version": 3
   },
   "file_extension": ".py",
   "mimetype": "text/x-python",
   "name": "python",
   "nbconvert_exporter": "python",
   "pygments_lexer": "ipython3",
   "version": "3.8.5"
  }
 },
 "nbformat": 4,
 "nbformat_minor": 4
}
